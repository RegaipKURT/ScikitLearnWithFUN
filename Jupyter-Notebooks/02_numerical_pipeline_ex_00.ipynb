{
 "cells": [
  {
   "cell_type": "markdown",
   "id": "4fa2ada7",
   "metadata": {},
   "source": [
    "# 📝 Exercise M1.02\n",
    "\n",
    "The goal of this exercise is to fit a similar model as in the previous\n",
    "notebook to get familiar with manipulating scikit-learn objects and in\n",
    "particular the `.fit/.predict/.score` API."
   ]
  },
  {
   "cell_type": "markdown",
   "id": "c11cd35a",
   "metadata": {},
   "source": [
    "Let's load the adult census dataset with only numerical variables"
   ]
  },
  {
   "cell_type": "code",
   "execution_count": 25,
   "id": "46602049",
   "metadata": {},
   "outputs": [],
   "source": [
    "import pandas as pd\n",
    "adult_census = pd.read_csv(\"../datasets/adult-census-numeric.csv\")\n",
    "data = adult_census.drop(columns=\"class\")\n",
    "target = adult_census[\"class\"]"
   ]
  },
  {
   "cell_type": "markdown",
   "id": "7bd2d555",
   "metadata": {},
   "source": [
    "In the previous notebook we used `model = KNeighborsClassifier()`. All\n",
    "scikit-learn models can be created without arguments, which means that you\n",
    "don't need to understand the details of the model to use it in scikit-learn.\n",
    "\n",
    "One of the `KNeighborsClassifier` parameters is `n_neighbors`. It controls\n",
    "the number of neighbors we are going to use to make a prediction for a new\n",
    "data point.\n",
    "\n",
    "What is the default value of the `n_neighbors` parameter? Hint: Look at the\n",
    "help inside your notebook `KNeighborsClassifier?` or on the [scikit-learn\n",
    "website](https://scikit-learn.org/stable/modules/generated/sklearn.neighbors.KNeighborsClassifier.html)"
   ]
  },
  {
   "cell_type": "code",
   "execution_count": 26,
   "id": "75b3395d",
   "metadata": {},
   "outputs": [],
   "source": [
    "from sklearn.neighbors import KNeighborsClassifier\n",
    "model = KNeighborsClassifier(n_neighbors=50)"
   ]
  },
  {
   "cell_type": "markdown",
   "id": "3c75bf47",
   "metadata": {},
   "source": [
    "Fit this model on the data and target loaded above"
   ]
  },
  {
   "cell_type": "code",
   "execution_count": 27,
   "id": "876b78e1",
   "metadata": {},
   "outputs": [
    {
     "data": {
      "text/plain": [
       "KNeighborsClassifier(n_neighbors=50)"
      ]
     },
     "execution_count": 27,
     "metadata": {},
     "output_type": "execute_result"
    }
   ],
   "source": [
    "model.fit(data, target)"
   ]
  },
  {
   "cell_type": "markdown",
   "id": "3c6db9a4",
   "metadata": {},
   "source": [
    "Use your model to make predictions on the first 10 data points inside the\n",
    "data. Do they match the actual target values?"
   ]
  },
  {
   "cell_type": "code",
   "execution_count": 28,
   "id": "1c4ca09f",
   "metadata": {},
   "outputs": [
    {
     "name": "stdout",
     "output_type": "stream",
     "text": [
      " <=50K  <=50K\n",
      " <=50K  <=50K\n",
      " <=50K  <=50K\n",
      " <=50K  <=50K\n",
      " <=50K  <=50K\n",
      " <=50K  <=50K\n",
      " <=50K  <=50K\n",
      " >50K  >50K\n",
      " <=50K  <=50K\n",
      " <=50K  >50K\n"
     ]
    }
   ],
   "source": [
    "preds = model.predict(data)\n",
    "for i in range(10):\n",
    "    print(preds[i], target[i])"
   ]
  },
  {
   "cell_type": "markdown",
   "id": "c8110995",
   "metadata": {},
   "source": [
    "Compute the accuracy on the training data."
   ]
  },
  {
   "cell_type": "code",
   "execution_count": 29,
   "id": "cb2aa6ee",
   "metadata": {},
   "outputs": [
    {
     "data": {
      "text/plain": [
       "0.8289867683566657"
      ]
     },
     "execution_count": 29,
     "metadata": {},
     "output_type": "execute_result"
    }
   ],
   "source": [
    "model.score(data, target)"
   ]
  },
  {
   "cell_type": "markdown",
   "id": "557ee63b",
   "metadata": {},
   "source": [
    "Now load the test data from `\"../datasets/adult-census-numeric-test.csv\"` and\n",
    "compute the accuracy on the test data."
   ]
  },
  {
   "cell_type": "code",
   "execution_count": 30,
   "id": "9b45c7d0",
   "metadata": {},
   "outputs": [
    {
     "data": {
      "text/plain": [
       "0.8182004299314157"
      ]
     },
     "execution_count": 30,
     "metadata": {},
     "output_type": "execute_result"
    }
   ],
   "source": [
    "test = pd.read_csv(\"../datasets/adult-census-numeric-test.csv\")\n",
    "dtest = test.drop(columns=\"class\")\n",
    "dtarget = test[\"class\"]\n",
    "\n",
    "model.score(dtest, dtarget)"
   ]
  }
 ],
 "metadata": {
  "kernelspec": {
   "display_name": "Python 3",
   "language": "python",
   "name": "python3"
  },
  "language_info": {
   "codemirror_mode": {
    "name": "ipython",
    "version": 3
   },
   "file_extension": ".py",
   "mimetype": "text/x-python",
   "name": "python",
   "nbconvert_exporter": "python",
   "pygments_lexer": "ipython3",
   "version": "3.9.2"
  },
  "nbreset": "https://github.com/INRIA/scikit-learn-mooc/raw/master/notebooks/02_numerical_pipeline_ex_00.ipynb"
 },
 "nbformat": 4,
 "nbformat_minor": 5
}
