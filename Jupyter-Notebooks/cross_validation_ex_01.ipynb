{
 "cells": [
  {
   "cell_type": "markdown",
   "id": "47af5446",
   "metadata": {},
   "source": [
    "# 📝 Exercise M2.01\n",
    "\n",
    "The aim of this exercise is to make the following experiments:\n",
    "\n",
    "* train and test a support vector machine classifier through\n",
    "  cross-validation;\n",
    "* study the effect of the parameter gamma of this classifier using a\n",
    "  validation curve;\n",
    "* study if it would be useful in term of classification if we could add new\n",
    "  samples in the dataset using a learning curve.\n",
    "\n",
    "To make these experiments we will first load the blood transfusion dataset."
   ]
  },
  {
   "cell_type": "markdown",
   "id": "297a2348",
   "metadata": {},
   "source": [
    "<div class=\"admonition note alert alert-info\">\n",
    "<p class=\"first admonition-title\" style=\"font-weight: bold;\">Note</p>\n",
    "<p class=\"last\">If you want a deeper overview regarding this dataset, you can refer to the\n",
    "Appendix - Datasets description section at the end of this MOOC.</p>\n",
    "</div>"
   ]
  },
  {
   "cell_type": "code",
   "execution_count": 1,
   "id": "da7eafaf",
   "metadata": {},
   "outputs": [],
   "source": [
    "import pandas as pd\n",
    "\n",
    "blood_transfusion = pd.read_csv(\"../datasets/blood_transfusion.csv\")\n",
    "data = blood_transfusion.drop(columns=\"Class\")\n",
    "target = blood_transfusion[\"Class\"]"
   ]
  },
  {
   "cell_type": "markdown",
   "id": "cd99bf03",
   "metadata": {},
   "source": [
    "We will use a support vector machine classifier (SVM). In its most simple\n",
    "form, a SVM classifier is a linear classifier behaving similarly to a\n",
    "logistic regression. Indeed, the optimization used to find the optimal\n",
    "weights of the linear model are different but we don't need to know these\n",
    "details for the exercise.\n",
    "\n",
    "Also, this classifier can become more flexible/expressive by using a\n",
    "so-called kernel making the model becomes non-linear. Again, no requirement\n",
    "regarding the mathematics is required to accomplish this exercise.\n",
    "\n",
    "We will use an RBF kernel where a parameter `gamma` allows to tune the\n",
    "flexibility of the model.\n",
    "\n",
    "First let's create a predictive pipeline made of:\n",
    "\n",
    "* a [`sklearn.preprocessing.StandardScaler`](https://scikit-learn.org/stable/modules/generated/sklearn.preprocessing.StandardScaler.html)\n",
    "  with default parameter;\n",
    "* a [`sklearn.svm.SVC`](https://scikit-learn.org/stable/modules/generated/sklearn.svm.SVC.html)\n",
    "  where the parameter `kernel` could be set to `\"rbf\"`. Note that this is the\n",
    "  default."
   ]
  },
  {
   "cell_type": "code",
   "execution_count": 2,
   "id": "28583d0b",
   "metadata": {},
   "outputs": [],
   "source": [
    "# Write your code here.\n",
    "from sklearn.pipeline import make_pipeline\n",
    "from sklearn.preprocessing import StandardScaler\n",
    "from sklearn.svm import SVC\n",
    "\n",
    "preprocessor = StandardScaler()\n",
    "model = make_pipeline(preprocessor, SVC(kernel=\"rbf\"))"
   ]
  },
  {
   "cell_type": "markdown",
   "id": "35f4238a",
   "metadata": {},
   "source": [
    "Evaluate the statistical performance of your model by cross-validation with a\n",
    "`ShuffleSplit` scheme. Thus, you can use\n",
    "[`sklearn.model_selection.cross_validate`](https://scikit-learn.org/stable/modules/generated/sklearn.model_selection.cross_validate.html)\n",
    "and pass a [`sklearn.model_selection.ShuffleSplit`](https://scikit-learn.org/stable/modules/generated/sklearn.model_selection.ShuffleSplit.html)\n",
    "to the `cv` parameter. Only fix the `random_state=0` in the `ShuffleSplit`\n",
    "and let the other parameters to the default."
   ]
  },
  {
   "cell_type": "code",
   "execution_count": 6,
   "id": "600cd41f",
   "metadata": {},
   "outputs": [
    {
     "data": {
      "text/html": [
       "<div>\n",
       "<style scoped>\n",
       "    .dataframe tbody tr th:only-of-type {\n",
       "        vertical-align: middle;\n",
       "    }\n",
       "\n",
       "    .dataframe tbody tr th {\n",
       "        vertical-align: top;\n",
       "    }\n",
       "\n",
       "    .dataframe thead th {\n",
       "        text-align: right;\n",
       "    }\n",
       "</style>\n",
       "<table border=\"1\" class=\"dataframe\">\n",
       "  <thead>\n",
       "    <tr style=\"text-align: right;\">\n",
       "      <th></th>\n",
       "      <th>fit_time</th>\n",
       "      <th>score_time</th>\n",
       "      <th>test_score</th>\n",
       "    </tr>\n",
       "  </thead>\n",
       "  <tbody>\n",
       "    <tr>\n",
       "      <th>0</th>\n",
       "      <td>0.014348</td>\n",
       "      <td>0.002362</td>\n",
       "      <td>0.680000</td>\n",
       "    </tr>\n",
       "    <tr>\n",
       "      <th>1</th>\n",
       "      <td>0.013268</td>\n",
       "      <td>0.002316</td>\n",
       "      <td>0.746667</td>\n",
       "    </tr>\n",
       "    <tr>\n",
       "      <th>2</th>\n",
       "      <td>0.013742</td>\n",
       "      <td>0.002345</td>\n",
       "      <td>0.786667</td>\n",
       "    </tr>\n",
       "    <tr>\n",
       "      <th>3</th>\n",
       "      <td>0.013154</td>\n",
       "      <td>0.002362</td>\n",
       "      <td>0.800000</td>\n",
       "    </tr>\n",
       "    <tr>\n",
       "      <th>4</th>\n",
       "      <td>0.014886</td>\n",
       "      <td>0.002386</td>\n",
       "      <td>0.746667</td>\n",
       "    </tr>\n",
       "    <tr>\n",
       "      <th>5</th>\n",
       "      <td>0.013687</td>\n",
       "      <td>0.002300</td>\n",
       "      <td>0.786667</td>\n",
       "    </tr>\n",
       "    <tr>\n",
       "      <th>6</th>\n",
       "      <td>0.013331</td>\n",
       "      <td>0.002311</td>\n",
       "      <td>0.800000</td>\n",
       "    </tr>\n",
       "    <tr>\n",
       "      <th>7</th>\n",
       "      <td>0.012806</td>\n",
       "      <td>0.002292</td>\n",
       "      <td>0.826667</td>\n",
       "    </tr>\n",
       "    <tr>\n",
       "      <th>8</th>\n",
       "      <td>0.013062</td>\n",
       "      <td>0.002287</td>\n",
       "      <td>0.746667</td>\n",
       "    </tr>\n",
       "    <tr>\n",
       "      <th>9</th>\n",
       "      <td>0.013149</td>\n",
       "      <td>0.002292</td>\n",
       "      <td>0.733333</td>\n",
       "    </tr>\n",
       "  </tbody>\n",
       "</table>\n",
       "</div>"
      ],
      "text/plain": [
       "   fit_time  score_time  test_score\n",
       "0  0.014348    0.002362    0.680000\n",
       "1  0.013268    0.002316    0.746667\n",
       "2  0.013742    0.002345    0.786667\n",
       "3  0.013154    0.002362    0.800000\n",
       "4  0.014886    0.002386    0.746667\n",
       "5  0.013687    0.002300    0.786667\n",
       "6  0.013331    0.002311    0.800000\n",
       "7  0.012806    0.002292    0.826667\n",
       "8  0.013062    0.002287    0.746667\n",
       "9  0.013149    0.002292    0.733333"
      ]
     },
     "execution_count": 6,
     "metadata": {},
     "output_type": "execute_result"
    }
   ],
   "source": [
    "# Write your code here.\n",
    "from sklearn.model_selection import cross_validate, ShuffleSplit\n",
    "\n",
    "cv = ShuffleSplit(random_state=0)\n",
    "cross_val_scores = cross_validate(model, data, target, cv=cv)\n",
    "\n",
    "cv_results = pd.DataFrame(cross_val_scores)\n",
    "\n",
    "cv_results"
   ]
  },
  {
   "cell_type": "markdown",
   "id": "7ff7952d",
   "metadata": {},
   "source": [
    "As previously mentioned, the parameter `gamma` is one of the parameter\n",
    "controlling under/over-fitting in support vector machine with an RBF kernel.\n",
    "\n",
    "Compute the validation curve\n",
    "(using [`sklearn.model_selection.validation_curve`](https://scikit-learn.org/stable/modules/generated/sklearn.model_selection.validation_curve.html))\n",
    "to evaluate the effect of the parameter `gamma`. You can vary its value\n",
    "between `10e-3` and `10e2` by generating samples on a logarithmic scale.\n",
    "Thus, you can use `np.logspace(-3, 2, num=30)`.\n",
    "\n",
    "Since we are manipulating a `Pipeline` the parameter name will be set to\n",
    "`svc__gamma` instead of only `gamma`. You can retrieve the parameter name\n",
    "using `model.get_params().keys()`. We will go more into details regarding\n",
    "accessing and setting hyperparameter in the next section."
   ]
  },
  {
   "cell_type": "code",
   "execution_count": 20,
   "id": "44190299",
   "metadata": {},
   "outputs": [],
   "source": [
    "# Write your code here.\n",
    "from sklearn.model_selection import validation_curve\n",
    "import numpy as np\n",
    "\n",
    "gammas = np.logspace(10e-3, 10e-2, num=5)\n",
    "\n",
    "train_scores, test_scores = validation_curve(\n",
    "    model, data, target, param_name=\"svc__gamma\", param_range=gammas,\n",
    "    cv=cv, scoring=\"accuracy\")"
   ]
  },
  {
   "cell_type": "markdown",
   "id": "2624f1f3",
   "metadata": {},
   "source": [
    "Plot the validation curve for the train and test scores."
   ]
  },
  {
   "cell_type": "code",
   "execution_count": 21,
   "id": "8b086062",
   "metadata": {},
   "outputs": [
    {
     "data": {
      "image/png": "[encoded data removed]",
      "text/plain": [
       "<Figure size 432x288 with 1 Axes>"
      ]
     },
     "metadata": {
      "needs_background": "light"
     },
     "output_type": "display_data"
    }
   ],
   "source": [
    "# Write your code here.\n",
    "import matplotlib.pyplot as plt\n",
    "\n",
    "plt.plot(gammas, train_scores.mean(axis=1), label=\"Train accuracy\")\n",
    "plt.plot(gammas, test_scores.mean(axis=1), label=\"Test accuracy\")\n",
    "plt.legend()\n",
    "\n",
    "plt.xlabel(\"Gamma values for SVC Kernel\")\n",
    "plt.ylabel(\"Accuracy\")\n",
    "_ = plt.title(\"Validation curve for SVC\")"
   ]
  },
  {
   "cell_type": "markdown",
   "id": "1423f8e2",
   "metadata": {},
   "source": [
    "Now, you can perform an analysis to check whether adding new samples to the\n",
    "dataset could help our model to better generalize. Compute the learning curve\n",
    "(using [`sklearn.model_selection.learning_curve`](https://scikit-learn.org/stable/modules/generated/sklearn.model_selection.learning_curve.html))\n",
    "by computing the train and test scores for different training dataset size.\n",
    "Plot the train and test scores with respect to the number of samples."
   ]
  },
  {
   "cell_type": "code",
   "execution_count": 25,
   "id": "7c8524ed",
   "metadata": {},
   "outputs": [
    {
     "name": "stdout",
     "output_type": "stream",
     "text": [
      "(array([ 67, 218, 370, 521, 673]), array([[0.7761194 , 0.76119403, 0.7761194 , 0.76119403, 0.74626866,\n",
      "        0.79104478, 0.71641791, 0.88059701, 0.80597015, 0.88059701],\n",
      "       [0.81192661, 0.77522936, 0.78899083, 0.75688073, 0.79357798,\n",
      "        0.80733945, 0.78899083, 0.7706422 , 0.83027523, 0.82110092],\n",
      "       [0.8027027 , 0.81081081, 0.7972973 , 0.77027027, 0.77567568,\n",
      "        0.80810811, 0.79459459, 0.76216216, 0.83783784, 0.80540541],\n",
      "       [0.79654511, 0.79846449, 0.80422265, 0.77735125, 0.78502879,\n",
      "        0.79654511, 0.78886756, 0.77351248, 0.80806142, 0.79846449],\n",
      "       [0.78751857, 0.79346211, 0.78751857, 0.78751857, 0.77711738,\n",
      "        0.79494799, 0.78306092, 0.79197623, 0.8038633 , 0.79494799]]), array([[0.68      , 0.74666667, 0.77333333, 0.81333333, 0.74666667,\n",
      "        0.74666667, 0.76      , 0.8       , 0.74666667, 0.76      ],\n",
      "       [0.73333333, 0.73333333, 0.78666667, 0.82666667, 0.74666667,\n",
      "        0.73333333, 0.77333333, 0.8       , 0.74666667, 0.73333333],\n",
      "       [0.68      , 0.76      , 0.76      , 0.81333333, 0.76      ,\n",
      "        0.74666667, 0.78666667, 0.82666667, 0.74666667, 0.74666667],\n",
      "       [0.68      , 0.77333333, 0.78666667, 0.8       , 0.74666667,\n",
      "        0.76      , 0.77333333, 0.84      , 0.74666667, 0.73333333],\n",
      "       [0.68      , 0.74666667, 0.78666667, 0.8       , 0.74666667,\n",
      "        0.78666667, 0.8       , 0.82666667, 0.74666667, 0.73333333]]))\n"
     ]
    },
    {
     "data": {
      "image/png": "[encoded data removed]",
      "text/plain": [
       "<Figure size 432x288 with 1 Axes>"
      ]
     },
     "metadata": {
      "needs_background": "light"
     },
     "output_type": "display_data"
    }
   ],
   "source": [
    "# Write your code here.\n",
    "from sklearn.model_selection import learning_curve\n",
    "\n",
    "train_sizes = np.linspace(0.1, 1.0, num=5, endpoint=True)\n",
    "\n",
    "results = learning_curve(\n",
    "    model, data, target, train_sizes=train_sizes, cv=cv,\n",
    "    scoring=\"accuracy\", n_jobs=2)\n",
    "\n",
    "print(results)\n",
    "train_size, train_scores, test_scores = results[:3]\n",
    "# Convert the scores into errors\n",
    "train_acc, test_acc = -train_scores, -test_scores\n",
    "\n",
    "plt.errorbar(train_size, train_acc.mean(axis=1),\n",
    "             yerr=train_errors.std(axis=1), label=\"Train Accuracy\")\n",
    "plt.errorbar(train_size, test_acc.mean(axis=1),\n",
    "             yerr=test_acc.std(axis=1), label=\"Test Accuracy\")\n",
    "plt.legend()\n",
    "\n",
    "plt.xscale(\"log\")\n",
    "plt.xlabel(\"Number of samples in the training set\")\n",
    "plt.ylabel(\"Accuracy\")\n",
    "_ = plt.title(\"Learning curve for SVC\")"
   ]
  }
 ],
 "metadata": {
  "jupytext": {
   "cell_metadata_filter": "-all",
   "main_language": "python",
   "notebook_metadata_filter": "-all"
  },
  "kernelspec": {
   "display_name": "Python 3",
   "language": "python",
   "name": "python3"
  },
  "language_info": {
   "codemirror_mode": {
    "name": "ipython",
    "version": 3
   },
   "file_extension": ".py",
   "mimetype": "text/x-python",
   "name": "python",
   "nbconvert_exporter": "python",
   "pygments_lexer": "ipython3",
   "version": "3.9.2"
  },
  "nbreset": "https://github.com/INRIA/scikit-learn-mooc/raw/master/notebooks/cross_validation_ex_01.ipynb"
 },
 "nbformat": 4,
 "nbformat_minor": 5
}
