{
 "cells": [
  {
   "cell_type": "markdown",
   "id": "11e73e30",
   "metadata": {},
   "source": [
    "# 📝 Exercise M1.01"
   ]
  },
  {
   "cell_type": "markdown",
   "id": "c8c31219",
   "metadata": {},
   "source": [
    "Imagine we are interested in predicting penguins species based on two of\n",
    "their body measurements: culmen length and culmen depth. First we want to do\n",
    "some data exploration to get a feel for the data.\n",
    "\n",
    "What are the features? What is the target?"
   ]
  },
  {
   "cell_type": "markdown",
   "id": "3b70e8d7",
   "metadata": {},
   "source": [
    "The data is located in `../datasets/penguins_classification.csv`, load it\n",
    "with `pandas` into a `DataFrame`."
   ]
  },
  {
   "cell_type": "code",
   "execution_count": 2,
   "id": "4cec8dec",
   "metadata": {},
   "outputs": [],
   "source": [
    "import pandas as pd\n",
    "df = pd.read_csv(\"../datasets/penguins_classification.csv\")"
   ]
  },
  {
   "cell_type": "markdown",
   "id": "16ad9bc3",
   "metadata": {},
   "source": [
    "Show a few samples of the data\n",
    "\n",
    "How many features are numerical? How many features are categorical?"
   ]
  },
  {
   "cell_type": "code",
   "execution_count": 7,
   "id": "c836eead",
   "metadata": {},
   "outputs": [
    {
     "name": "stdout",
     "output_type": "stream",
     "text": [
      "   Culmen Length (mm)  Culmen Depth (mm) Species\n",
      "0                39.1               18.7  Adelie\n",
      "1                39.5               17.4  Adelie\n",
      "2                40.3               18.0  Adelie\n",
      "3                36.7               19.3  Adelie\n",
      "4                39.3               20.6  Adelie\n"
     ]
    }
   ],
   "source": [
    "print(df.head())"
   ]
  },
  {
   "cell_type": "markdown",
   "id": "639ceca5",
   "metadata": {},
   "source": [
    "What are the different penguins species available in the dataset and how many\n",
    "samples of each species are there? Hint: select the right column and use\n",
    "the [`value_counts`](https://pandas.pydata.org/pandas-docs/stable/reference/api/pandas.Series.value_counts.html) method."
   ]
  },
  {
   "cell_type": "code",
   "execution_count": 8,
   "id": "2f14347d",
   "metadata": {},
   "outputs": [
    {
     "name": "stdout",
     "output_type": "stream",
     "text": [
      "Adelie       151\n",
      "Gentoo       123\n",
      "Chinstrap     68\n",
      "Name: Species, dtype: int64\n"
     ]
    }
   ],
   "source": [
    "print(df[\"Species\"].value_counts())"
   ]
  },
  {
   "cell_type": "markdown",
   "id": "7f55b3c1",
   "metadata": {},
   "source": [
    "Plot histograms for the numerical features"
   ]
  },
  {
   "cell_type": "code",
   "execution_count": 10,
   "id": "8e3c7329",
   "metadata": {},
   "outputs": [
    {
     "data": {
      "text/plain": [
       "array([[<AxesSubplot:title={'center':'Culmen Length (mm)'}>,\n",
       "        <AxesSubplot:title={'center':'Culmen Depth (mm)'}>]], dtype=object)"
      ]
     },
     "execution_count": 10,
     "metadata": {},
     "output_type": "execute_result"
    },
    {
     "data": {
      "image/png": "[encoded data removed]",
      "text/plain": [
       "<Figure size 432x288 with 2 Axes>"
      ]
     },
     "metadata": {
      "needs_background": "light"
     },
     "output_type": "display_data"
    }
   ],
   "source": [
    "df.hist()"
   ]
  },
  {
   "cell_type": "markdown",
   "id": "d170e92f",
   "metadata": {},
   "source": [
    "Show features distribution for each class. Hint: use\n",
    "[`seaborn.pairplot`](https://seaborn.pydata.org/generated/seaborn.pairplot.html)"
   ]
  },
  {
   "cell_type": "code",
   "execution_count": null,
   "id": "ebb85660",
   "metadata": {},
   "outputs": [],
   "source": [
    "# Write your code here."
   ]
  },
  {
   "cell_type": "markdown",
   "id": "f76e7ced",
   "metadata": {},
   "source": [
    "Looking at these distributions, how hard do you think it will be to classify\n",
    "the penguins only using \"culmen depth\" and \"culmen length\"?"
   ]
  }
 ],
 "metadata": {
  "kernelspec": {
   "display_name": "Python 3",
   "language": "python",
   "name": "python3"
  },
  "language_info": {
   "codemirror_mode": {
    "name": "ipython",
    "version": 3
   },
   "file_extension": ".py",
   "mimetype": "text/x-python",
   "name": "python",
   "nbconvert_exporter": "python",
   "pygments_lexer": "ipython3",
   "version": "3.9.2"
  },
  "nbreset": "https://github.com/INRIA/scikit-learn-mooc/raw/master/notebooks/01_tabular_data_exploration_ex_01.ipynb"
 },
 "nbformat": 4,
 "nbformat_minor": 5
}
