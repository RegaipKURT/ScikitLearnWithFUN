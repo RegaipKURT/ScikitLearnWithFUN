{
 "cells": [
  {
   "cell_type": "code",
   "execution_count": 4,
   "metadata": {},
   "outputs": [],
   "source": [
    "import pandas as pd\n",
    "\n",
    "blood_transfusion = pd.read_csv(\"../datasets/blood_transfusion.csv\")\n",
    "target_name = \"Class\"\n",
    "data = blood_transfusion.drop(columns=target_name)\n",
    "target = blood_transfusion[target_name]"
   ]
  },
  {
   "cell_type": "code",
   "execution_count": 6,
   "metadata": {},
   "outputs": [
    {
     "data": {
      "text/plain": [
       "not donated    570\n",
       "donated        178\n",
       "Name: Class, dtype: int64"
      ]
     },
     "execution_count": 6,
     "metadata": {},
     "output_type": "execute_result"
    }
   ],
   "source": [
    "target.value_counts()"
   ]
  },
  {
   "cell_type": "code",
   "execution_count": 8,
   "metadata": {},
   "outputs": [],
   "source": [
    "from sklearn.dummy import DummyClassifier\n",
    "from sklearn.model_selection import cross_validate\n",
    "\n",
    "model = DummyClassifier(strategy=\"most_frequent\")\n",
    "scores = cross_validate(model, data, target, cv=10)"
   ]
  },
  {
   "cell_type": "code",
   "execution_count": 11,
   "metadata": {},
   "outputs": [
    {
     "name": "stdout",
     "output_type": "stream",
     "text": [
      "0.7620540540540539\n"
     ]
    }
   ],
   "source": [
    "import pandas as pd\n",
    "\n",
    "cv = pd.DataFrame(scores)\n",
    "print(cv[\"test_score\"].mean())"
   ]
  },
  {
   "cell_type": "code",
   "execution_count": 15,
   "metadata": {},
   "outputs": [
    {
     "name": "stdout",
     "output_type": "stream",
     "text": [
      "   fit_time  score_time  test_score\n",
      "0  0.001042    0.000361     0.76000\n",
      "1  0.000706    0.000294     0.76000\n",
      "2  0.000694    0.000290     0.76000\n",
      "3  0.000695    0.000291     0.76000\n",
      "4  0.000688    0.000289     0.76000\n",
      "5  0.000682    0.000286     0.76000\n",
      "6  0.000688    0.000291     0.76000\n",
      "7  0.000679    0.000286     0.76000\n",
      "8  0.000670    0.000283     0.77027\n",
      "9  0.000669    0.000283     0.77027\n",
      "0.7620540540540539\n"
     ]
    }
   ],
   "source": [
    "modelb = DummyClassifier(strategy=\"most_frequent\")\n",
    "scoresb = cross_validate(model, data, target, cv=10, \n",
    "                        scoring=\"balanced_accuracy\")\n",
    "\n",
    "cvb = pd.DataFrame(scores)\n",
    "print(cvb)\n",
    "print(cvb[\"test_score\"].mean())"
   ]
  },
  {
   "cell_type": "code",
   "execution_count": 37,
   "metadata": {},
   "outputs": [
    {
     "name": "stdout",
     "output_type": "stream",
     "text": [
      "5\n",
      "   fit_time  score_time  test_score  train_score\n",
      "0  0.004036    0.003364    0.373333     0.842496\n",
      "1  0.003348    0.003156    0.400000     0.815750\n",
      "2  0.003312    0.003162    0.560000     0.805349\n",
      "3  0.003304    0.003150    0.706667     0.827637\n",
      "4  0.003299    0.003161    0.733333     0.820208\n",
      "5  0.003356    0.003391    0.760000     0.827637\n",
      "6  0.003341    0.003210    0.680000     0.821694\n",
      "7  0.003342    0.003227    0.786667     0.812779\n",
      "8  0.003351    0.003205    0.743243     0.821958\n",
      "9  0.003378    0.003182    0.783784     0.817507\n",
      "{'memory': None, 'steps': [('standardscaler', StandardScaler()), ('kneighborsclassifier', KNeighborsClassifier())], 'verbose': False, 'standardscaler': StandardScaler(), 'kneighborsclassifier': KNeighborsClassifier(), 'standardscaler__copy': True, 'standardscaler__with_mean': True, 'standardscaler__with_std': True, 'kneighborsclassifier__algorithm': 'auto', 'kneighborsclassifier__leaf_size': 30, 'kneighborsclassifier__metric': 'minkowski', 'kneighborsclassifier__metric_params': None, 'kneighborsclassifier__n_jobs': None, 'kneighborsclassifier__n_neighbors': 5, 'kneighborsclassifier__p': 2, 'kneighborsclassifier__weights': 'uniform'}\n"
     ]
    }
   ],
   "source": [
    "from sklearn.pipeline import make_pipeline\n",
    "from sklearn.preprocessing import StandardScaler\n",
    "from sklearn.neighbors import KNeighborsClassifier\n",
    "\n",
    "preprocessor = StandardScaler()\n",
    "\n",
    "model = make_pipeline(preprocessor, KNeighborsClassifier())\n",
    "scores = cross_validate(model, data, target, scoring=\"accuracy\", cv=10,\n",
    "                       return_train_score=True)\n",
    "cvs = pd.DataFrame(scores)\n",
    "\n",
    "print(model[1].n_neighbors)\n",
    "print(cvs)\n",
    "print(model.get_params())"
   ]
  },
  {
   "cell_type": "code",
   "execution_count": 39,
   "metadata": {},
   "outputs": [
    {
     "data": {
      "image/png": "[encoded data removed]",
      "text/plain": [
       "<Figure size 432x288 with 1 Axes>"
      ]
     },
     "metadata": {
      "needs_background": "light"
     },
     "output_type": "display_data"
    }
   ],
   "source": [
    "import matplotlib.pyplot as plt\n",
    "from sklearn.model_selection import validation_curve\n",
    "\n",
    "preprocessor = StandardScaler()\n",
    "params = [1, 2, 5, 10, 20, 50, 100, 200, 500]\n",
    "model = make_pipeline(preprocessor, KNeighborsClassifier())\n",
    "\n",
    "train_scores, test_scores = validation_curve(\n",
    "    model, data, target, param_name=\"kneighborsclassifier__n_neighbors\", \n",
    "    param_range=params, cv=5, scoring=\"balanced_accuracy\")\n",
    "\n",
    "plt.plot(params, train_scores.mean(axis=1), label=\"Train accuracy\")\n",
    "plt.plot(params, test_scores.mean(axis=1), label=\"Test accuracy\")\n",
    "plt.legend()\n",
    "\n",
    "plt.xlabel(\"Gamma values for SVC Kernel\")\n",
    "plt.ylabel(\"Accuracy\")\n",
    "_ = plt.title(\"Validation curve for SVC\")\n"
   ]
  }
 ],
 "metadata": {
  "kernelspec": {
   "display_name": "Python 3",
   "language": "python",
   "name": "python3"
  },
  "language_info": {
   "codemirror_mode": {
    "name": "ipython",
    "version": 3
   },
   "file_extension": ".py",
   "mimetype": "text/x-python",
   "name": "python",
   "nbconvert_exporter": "python",
   "pygments_lexer": "ipython3",
   "version": "3.9.2"
  }
 },
 "nbformat": 4,
 "nbformat_minor": 4
}
