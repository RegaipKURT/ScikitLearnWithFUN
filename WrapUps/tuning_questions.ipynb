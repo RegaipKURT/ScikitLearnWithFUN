{
 "cells": [
  {
   "cell_type": "code",
   "execution_count": 2,
   "metadata": {},
   "outputs": [],
   "source": [
    "import pandas as pd\n",
    "\n",
    "penguins = pd.read_csv(\"../datasets/penguins.csv\")\n",
    "\n",
    "columns = [\"Body Mass (g)\", \"Flipper Length (mm)\", \"Culmen Length (mm)\"]\n",
    "target_name = \"Species\"\n",
    "\n",
    "# Remove lines with missing values for the columns of interestes\n",
    "penguins_non_missing = penguins[columns + [target_name]].dropna()\n",
    "\n",
    "data = penguins_non_missing[columns]\n",
    "target = penguins_non_missing[target_name]"
   ]
  },
  {
   "cell_type": "code",
   "execution_count": 3,
   "metadata": {},
   "outputs": [
    {
     "data": {
      "text/plain": [
       "Adelie Penguin (Pygoscelis adeliae)          151\n",
       "Gentoo penguin (Pygoscelis papua)            123\n",
       "Chinstrap penguin (Pygoscelis antarctica)     68\n",
       "Name: Species, dtype: int64"
      ]
     },
     "execution_count": 3,
     "metadata": {},
     "output_type": "execute_result"
    }
   ],
   "source": [
    "target.value_counts()"
   ]
  },
  {
   "cell_type": "code",
   "execution_count": 11,
   "metadata": {},
   "outputs": [
    {
     "data": {
      "text/plain": [
       "(Body Mass (g)          4201.754386\n",
       " Flipper Length (mm)     200.915205\n",
       " Culmen Length (mm)       43.921930\n",
       " dtype: float64,\n",
       " Body Mass (g)          801.954536\n",
       " Flipper Length (mm)     14.061714\n",
       " Culmen Length (mm)       5.459584\n",
       " dtype: float64)"
      ]
     },
     "execution_count": 11,
     "metadata": {},
     "output_type": "execute_result"
    }
   ],
   "source": [
    "data.mean(), data.std()"
   ]
  },
  {
   "cell_type": "code",
   "execution_count": 25,
   "metadata": {},
   "outputs": [
    {
     "data": {
      "text/plain": [
       "(   fit_time  score_time  test_score  train_score\n",
       " 0  0.003624    0.002946    0.952381     0.950812\n",
       " 1  0.003318    0.002708    0.977778     0.945338\n",
       " 2  0.003042    0.002708    1.000000     0.943681\n",
       " 3  0.002984    0.002676    0.863248     0.960389\n",
       " 4  0.002964    0.002679    0.882540     0.959308\n",
       " 5  0.002958    0.002671    0.952381     0.941016\n",
       " 6  0.002953    0.002657    0.955556     0.937450\n",
       " 7  0.002946    0.002654    0.952381     0.943467\n",
       " 8  0.002935    0.002646    0.930159     0.954396\n",
       " 9  0.002943    0.002657    0.952381     0.945928,\n",
       " 0.9418803418803419)"
      ]
     },
     "execution_count": 25,
     "metadata": {},
     "output_type": "execute_result"
    }
   ],
   "source": [
    "from sklearn.neighbors import KNeighborsClassifier\n",
    "from sklearn.preprocessing import StandardScaler\n",
    "from sklearn.pipeline import Pipeline\n",
    "from sklearn.model_selection import cross_validate\n",
    "\n",
    "model = Pipeline(steps=[\n",
    "    (\"preprocessor\", StandardScaler()),\n",
    "    (\"classifier\", KNeighborsClassifier(n_neighbors=51)),\n",
    "])\n",
    "\n",
    "model.get_params()\n",
    "cv_scores = cross_validate(model, data, target, scoring=\"balanced_accuracy\",\n",
    "                          return_train_score=True, cv=10)\n",
    "cv_scores = pd.DataFrame(cv_scores)\n",
    "cv_scores, cv_scores[\"test_score\"].mean()"
   ]
  },
  {
   "cell_type": "code",
   "execution_count": 29,
   "metadata": {},
   "outputs": [
    {
     "data": {
      "text/plain": [
       "(   fit_time  score_time  test_score  train_score\n",
       " 0  0.002360    0.002806    0.664683     0.804811\n",
       " 1  0.001856    0.002423    0.736020     0.787876\n",
       " 2  0.001839    0.002403    0.741026     0.791960\n",
       " 3  0.001832    0.002407    0.704274     0.799418\n",
       " 4  0.001887    0.002450    0.584127     0.802599\n",
       " 5  0.001854    0.002444    0.669841     0.802589\n",
       " 6  0.001856    0.002453    0.834921     0.800690\n",
       " 7  0.001850    0.002443    0.742857     0.768687\n",
       " 8  0.001848    0.002437    0.882540     0.783182\n",
       " 9  0.001813    0.002373    0.838095     0.780741,\n",
       " 0.7398382173382173)"
      ]
     },
     "execution_count": 29,
     "metadata": {},
     "output_type": "execute_result"
    }
   ],
   "source": [
    "from sklearn.neighbors import KNeighborsClassifier\n",
    "from sklearn.preprocessing import StandardScaler\n",
    "from sklearn.pipeline import Pipeline\n",
    "from sklearn.model_selection import cross_validate\n",
    "\n",
    "model = Pipeline(steps=[\n",
    "    (\"classifier\", KNeighborsClassifier(n_neighbors=5)),\n",
    "])\n",
    "\n",
    "model.get_params()\n",
    "cv_scores = cross_validate(model, data, target, scoring=\"balanced_accuracy\",\n",
    "                          return_train_score=True, cv=10)\n",
    "cv_scores = pd.DataFrame(cv_scores)\n",
    "cv_scores, cv_scores[\"test_score\"].mean()"
   ]
  },
  {
   "cell_type": "code",
   "execution_count": 38,
   "metadata": {},
   "outputs": [
    {
     "name": "stdout",
     "output_type": "stream",
     "text": [
      "Preprocessor:  None K-neighbor:  5\n",
      "51 neighbor 0.7398382173382173 0.09137390105837827\n",
      "Preprocessor:  None K-neighbor:  51\n",
      "51 neighbor 0.6051816239316239 0.03845307130868317\n",
      "Preprocessor:  None K-neighbor:  101\n",
      "51 neighbor 0.6138568376068376 0.03317445035717024\n",
      "Preprocessor:  StandardScaler() K-neighbor:  5\n",
      "51 neighbor 0.9521978021978021 0.04206050394033833\n",
      "Preprocessor:  StandardScaler() K-neighbor:  51\n",
      "51 neighbor 0.9418803418803419 0.041009971747782106\n",
      "Preprocessor:  StandardScaler() K-neighbor:  101\n",
      "51 neighbor 0.8766422466422465 0.04386966180108448\n",
      "Preprocessor:  MinMaxScaler() K-neighbor:  5\n",
      "51 neighbor 0.9477777777777779 0.03612210813810691\n",
      "Preprocessor:  MinMaxScaler() K-neighbor:  51\n",
      "51 neighbor 0.9202930402930404 0.04797817747635613\n",
      "Preprocessor:  MinMaxScaler() K-neighbor:  101\n",
      "51 neighbor 0.8623565323565323 0.04874594277907138\n",
      "Preprocessor:  QuantileTransformer(n_quantiles=100) K-neighbor:  5\n",
      "51 neighbor 0.9470940170940171 0.03562497834842707\n",
      "Preprocessor:  QuantileTransformer(n_quantiles=100) K-neighbor:  51\n",
      "51 neighbor 0.9272771672771674 0.04612588601651568\n",
      "Preprocessor:  QuantileTransformer(n_quantiles=100) K-neighbor:  101\n",
      "51 neighbor 0.8129914529914529 0.047211177065227365\n",
      "Preprocessor:  PowerTransformer(method='box-cox') K-neighbor:  5\n",
      "51 neighbor 0.946959706959707 0.04995058143219835\n",
      "Preprocessor:  PowerTransformer(method='box-cox') K-neighbor:  51\n",
      "51 neighbor 0.9228327228327229 0.05047277670308848\n",
      "Preprocessor:  PowerTransformer(method='box-cox') K-neighbor:  101\n",
      "51 neighbor 0.8571428571428571 0.04321815419399391\n"
     ]
    }
   ],
   "source": [
    "from sklearn.neighbors import KNeighborsClassifier\n",
    "from sklearn.preprocessing import StandardScaler\n",
    "from sklearn.pipeline import Pipeline\n",
    "from sklearn.model_selection import cross_validate\n",
    "from sklearn.preprocessing import MinMaxScaler\n",
    "from sklearn.preprocessing import QuantileTransformer\n",
    "from sklearn.preprocessing import PowerTransformer\n",
    "\n",
    "\n",
    "all_preprocessors = [\n",
    "    None,\n",
    "    StandardScaler(),\n",
    "    MinMaxScaler(),\n",
    "    QuantileTransformer(n_quantiles=100),\n",
    "    PowerTransformer(method=\"box-cox\"),\n",
    "]\n",
    "\n",
    "\n",
    "for pp in all_preprocessors:\n",
    "    for k in [5, 51, 101]:\n",
    "        print(\"Preprocessor: \", pp, \"K-neighbor: \", k)\n",
    "        model = Pipeline(steps=[\n",
    "            (\"preprocessor\", pp),\n",
    "            (\"classifier\", KNeighborsClassifier(n_neighbors=k)),\n",
    "        ])\n",
    "\n",
    "        model.get_params()\n",
    "        cv_scores = cross_validate(model, data, target, scoring=\"balanced_accuracy\",\n",
    "                                  return_train_score=True, cv=10)\n",
    "        cv_scores = pd.DataFrame(cv_scores)\n",
    "        print(\"51 neighbor\", cv_scores[\"test_score\"].mean(), cv_scores[\"test_score\"].std())"
   ]
  },
  {
   "cell_type": "code",
   "execution_count": null,
   "metadata": {},
   "outputs": [],
   "source": []
  }
 ],
 "metadata": {
  "kernelspec": {
   "display_name": "Python 3",
   "language": "python",
   "name": "python3"
  },
  "language_info": {
   "codemirror_mode": {
    "name": "ipython",
    "version": 3
   },
   "file_extension": ".py",
   "mimetype": "text/x-python",
   "name": "python",
   "nbconvert_exporter": "python",
   "pygments_lexer": "ipython3",
   "version": "3.9.2"
  }
 },
 "nbformat": 4,
 "nbformat_minor": 4
}
