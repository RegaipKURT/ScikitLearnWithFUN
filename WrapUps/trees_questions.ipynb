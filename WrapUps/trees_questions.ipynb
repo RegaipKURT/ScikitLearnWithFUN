{
 "cells": [
  {
   "cell_type": "code",
   "execution_count": 69,
   "metadata": {},
   "outputs": [],
   "source": [
    "import pandas as pd\n",
    "ames_housing = pd.read_csv(\"../datasets/house_prices.csv\", na_values=\"?\")\n",
    "target_name = \"SalePrice\"\n",
    "data = ames_housing.drop(columns=target_name)\n",
    "target = ames_housing[target_name]\n",
    "\n",
    "numerical_features = [\n",
    "    \"LotFrontage\", \"LotArea\", \"MasVnrArea\", \"BsmtFinSF1\", \"BsmtFinSF2\",\n",
    "    \"BsmtUnfSF\", \"TotalBsmtSF\", \"1stFlrSF\", \"2ndFlrSF\", \"LowQualFinSF\",\n",
    "    \"GrLivArea\", \"BedroomAbvGr\", \"KitchenAbvGr\", \"TotRmsAbvGrd\", \"Fireplaces\",\n",
    "    \"GarageCars\", \"GarageArea\", \"WoodDeckSF\", \"OpenPorchSF\", \"EnclosedPorch\",\n",
    "    \"3SsnPorch\", \"ScreenPorch\", \"PoolArea\", \"MiscVal\",\n",
    "]\n",
    "\n",
    "data_numerical = data[numerical_features]"
   ]
  },
  {
   "cell_type": "code",
   "execution_count": 70,
   "metadata": {},
   "outputs": [],
   "source": [
    "from sklearn.linear_model import LinearRegression\n",
    "from sklearn.tree import DecisionTreeRegressor\n",
    "from sklearn.model_selection import cross_validate\n",
    "from sklearn.impute import SimpleImputer\n",
    "from sklearn.preprocessing import StandardScaler\n",
    "from sklearn.pipeline import make_pipeline\n",
    "from sklearn.metrics import r2_score, mean_squared_error\n",
    "\n",
    "lin_mod = LinearRegression()\n",
    "dt_mod = DecisionTreeRegressor(max_depth=6)\n",
    "\n",
    "data_numerical_imputed = SimpleImputer().fit_transform(data_numerical)\n",
    "data_numerical_scaled = StandardScaler().fit_transform(data_numerical_imputed)\n",
    "\n",
    "scores = [\"r2\", \"mean_squared_error\"]\n",
    "\n",
    "cv_scores_lin = cross_validate(lin_mod, data_numerical_scaled, target,\n",
    "                              cv=10, scoring=\"r2\")\n",
    "cv_scores_dt = cross_validate(dt_mod, data_numerical_imputed, target,\n",
    "                             cv=10, scoring=\"r2\")"
   ]
  },
  {
   "cell_type": "code",
   "execution_count": 71,
   "metadata": {},
   "outputs": [
    {
     "name": "stdout",
     "output_type": "stream",
     "text": [
      "Linear R2:  0.7190704144353554\n",
      "DT R2:  0.6923683497095743\n"
     ]
    }
   ],
   "source": [
    "print(\"Linear R2: \", cv_scores_lin[\"test_score\"].mean())\n",
    "print(\"DT R2: \",cv_scores_dt[\"test_score\"].mean())"
   ]
  },
  {
   "cell_type": "code",
   "execution_count": 72,
   "metadata": {},
   "outputs": [
    {
     "data": {
      "text/plain": [
       "DecisionTreeRegressor(max_depth=8)"
      ]
     },
     "execution_count": 72,
     "metadata": {},
     "output_type": "execute_result"
    }
   ],
   "source": [
    "from sklearn.model_selection import GridSearchCV\n",
    "\n",
    "params = {\"max_depth\": list(range(1,16))}\n",
    "\n",
    "dt_mod = DecisionTreeRegressor()\n",
    "\n",
    "dt_grid_cv = GridSearchCV(DecisionTreeRegressor(), param_grid=params)\n",
    "dt_grid_cv.fit(data_numerical_imputed, target)\n",
    "dt_grid_cv.best_estimator_"
   ]
  },
  {
   "cell_type": "code",
   "execution_count": 74,
   "metadata": {},
   "outputs": [
    {
     "name": "stdout",
     "output_type": "stream",
     "text": [
      "Categorical:  0.751821971422152\n",
      "Numerical:  0.6923683497095743\n",
      "Difference:  0.05945362171257773\n"
     ]
    }
   ],
   "source": [
    "from sklearn.preprocessing import StandardScaler, OneHotEncoder\n",
    "from sklearn.compose import make_column_selector, make_column_transformer\n",
    "import numpy as np\n",
    "\n",
    "dt_fin = DecisionTreeRegressor()\n",
    "\n",
    "transformer = make_column_transformer(\n",
    "       (StandardScaler(),\n",
    "        make_column_selector(dtype_include=np.number)),\n",
    "       (OneHotEncoder(),\n",
    "        make_column_selector(dtype_include=object)))\n",
    "\n",
    "hp = transformer.fit_transform(data)\n",
    "hp = SimpleImputer().fit_transform(hp)\n",
    "\n",
    "dt_fin.fit(hp, target)\n",
    "\n",
    "cv_scores_dt2 = cross_validate(dt_fin, hp, target,\n",
    "                             cv=10, scoring=\"r2\")\n",
    "\n",
    "print(\"Categorical: \", cv_scores_dt2[\"test_score\"].mean())\n",
    "print(\"Numerical: \", cv_scores_dt[\"test_score\"].mean())\n",
    "\n",
    "print(\"Difference: \", cv_scores_dt2[\"test_score\"].mean() - cv_scores_dt[\"test_score\"].mean())\n"
   ]
  }
 ],
 "metadata": {
  "kernelspec": {
   "display_name": "Python 3",
   "language": "python",
   "name": "python3"
  },
  "language_info": {
   "codemirror_mode": {
    "name": "ipython",
    "version": 3
   },
   "file_extension": ".py",
   "mimetype": "text/x-python",
   "name": "python",
   "nbconvert_exporter": "python",
   "pygments_lexer": "ipython3",
   "version": "3.9.2"
  }
 },
 "nbformat": 4,
 "nbformat_minor": 4
}
