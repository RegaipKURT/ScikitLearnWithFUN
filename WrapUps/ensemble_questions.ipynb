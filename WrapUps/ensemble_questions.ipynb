{
 "cells": [
  {
   "cell_type": "code",
   "execution_count": 1,
   "metadata": {},
   "outputs": [],
   "source": [
    "import pandas as pd\n",
    "\n",
    "blood_transfusion = pd.read_csv(\"../datasets/blood_transfusion.csv\")\n",
    "data = blood_transfusion.drop(columns=\"Class\")\n",
    "target = blood_transfusion[\"Class\"]"
   ]
  },
  {
   "cell_type": "code",
   "execution_count": 7,
   "metadata": {},
   "outputs": [
    {
     "name": "stdout",
     "output_type": "stream",
     "text": [
      "0.762054054054054\n"
     ]
    }
   ],
   "source": [
    "from sklearn.model_selection import GridSearchCV, cross_validate\n",
    "from sklearn.dummy import DummyClassifier\n",
    "\n",
    "cv_res = cross_validate(DummyClassifier(strategy=\"most_frequent\"), \n",
    "                        data, target, cv=10, scoring=\"accuracy\")\n",
    "\n",
    "print(cv_res[\"test_score\"].mean())"
   ]
  },
  {
   "cell_type": "code",
   "execution_count": 9,
   "metadata": {},
   "outputs": [
    {
     "name": "stdout",
     "output_type": "stream",
     "text": [
      "0.5\n"
     ]
    }
   ],
   "source": [
    "cv_res = cross_validate(DummyClassifier(strategy=\"most_frequent\"), \n",
    "                        data, target, cv=10, scoring=\"balanced_accuracy\")\n",
    "\n",
    "print(cv_res[\"test_score\"].mean())"
   ]
  },
  {
   "cell_type": "code",
   "execution_count": 12,
   "metadata": {},
   "outputs": [
    {
     "name": "stdout",
     "output_type": "stream",
     "text": [
      "0.5051857585139319\n"
     ]
    }
   ],
   "source": [
    "from sklearn.tree import DecisionTreeClassifier\n",
    "\n",
    "cv_res = cross_validate(DecisionTreeClassifier(), \n",
    "                        data, target, cv=10, scoring=\"balanced_accuracy\")\n",
    "\n",
    "print(cv_res[\"test_score\"].mean())"
   ]
  },
  {
   "cell_type": "code",
   "execution_count": 14,
   "metadata": {},
   "outputs": [
    {
     "name": "stdout",
     "output_type": "stream",
     "text": [
      "0.5292741658066735\n"
     ]
    }
   ],
   "source": [
    "from sklearn.ensemble import RandomForestClassifier\n",
    "\n",
    "cv_res = cross_validate(RandomForestClassifier(n_estimators=300), \n",
    "                        data, target, cv=10, scoring=\"balanced_accuracy\")\n",
    "\n",
    "print(cv_res[\"test_score\"].mean())"
   ]
  },
  {
   "cell_type": "code",
   "execution_count": 26,
   "metadata": {},
   "outputs": [],
   "source": [
    "from sklearn.ensemble import RandomForestClassifier\n",
    "\n",
    "scores_rf = []\n",
    "\n",
    "for i in range(10):\n",
    "    cv_res = cross_validate(RandomForestClassifier(n_estimators=300), \n",
    "                            data, target, cv=10, scoring=\"accuracy\")\n",
    "\n",
    "    scores_rf.append(cv_res[\"test_score\"].mean())"
   ]
  },
  {
   "cell_type": "code",
   "execution_count": 31,
   "metadata": {},
   "outputs": [],
   "source": [
    "from sklearn.ensemble import GradientBoostingClassifier\n",
    "\n",
    "scores_grd = []\n",
    "\n",
    "for i in range(10):\n",
    "    cv_res = cross_validate(GradientBoostingClassifier(n_estimators=300), \n",
    "                            data, target, cv=10, scoring=\"accuracy\")\n",
    "\n",
    "    scores_grd.append(cv_res[\"test_score\"].mean())"
   ]
  },
  {
   "cell_type": "code",
   "execution_count": 32,
   "metadata": {},
   "outputs": [
    {
     "name": "stdout",
     "output_type": "stream",
     "text": [
      "Mean of RF Trees: 0.6680738738738741\n",
      "Mean of GB Trees: 0.691064864864865\n"
     ]
    }
   ],
   "source": [
    "import pandas as pd\n",
    "import numpy as np\n",
    "\n",
    "print(\"Mean of RF Trees:\", np.mean(scores_rf))\n",
    "print(\"Mean of GB Trees:\", np.mean(scores_grd))"
   ]
  },
  {
   "cell_type": "code",
   "execution_count": 50,
   "metadata": {},
   "outputs": [
    {
     "name": "stdout",
     "output_type": "stream",
     "text": [
      "Mean Accuracy:  0.7247387387387387\n",
      "Mean Balanced Accuracy:  0.5573271413828689\n"
     ]
    }
   ],
   "source": [
    "# explicitly require this experimental feature\n",
    "from sklearn.experimental import enable_hist_gradient_boosting\n",
    "# now you can import normally from ensemble\n",
    "from sklearn.ensemble import HistGradientBoostingClassifier\n",
    "\n",
    "cv_res = cross_validate(HistGradientBoostingClassifier(max_iter=1000, \n",
    "                                                       early_stopping=True), \n",
    "                            data, target, cv=10, \n",
    "                        scoring=[\"accuracy\", \"balanced_accuracy\"],\n",
    "                       return_estimator=True)\n",
    "\n",
    "print(\"Mean Accuracy: \", cv_res[\"test_accuracy\"].mean())\n",
    "print(\"Mean Balanced Accuracy: \", cv_res[\"test_balanced_accuracy\"].mean())"
   ]
  },
  {
   "cell_type": "code",
   "execution_count": 55,
   "metadata": {},
   "outputs": [
    {
     "name": "stdout",
     "output_type": "stream",
     "text": [
      "27.5\n"
     ]
    }
   ],
   "source": [
    "tree_numbers = [] \n",
    "for est in cv_res[\"estimator\"]:\n",
    "    tree_numbers.append(est.n_iter_)\n",
    "    \n",
    "print(np.mean(tree_numbers))"
   ]
  },
  {
   "cell_type": "code",
   "execution_count": 57,
   "metadata": {},
   "outputs": [
    {
     "name": "stdout",
     "output_type": "stream",
     "text": [
      "Mean Accuracy:  0.6073693693693694\n",
      "Mean Balanced Accuracy:  0.5918386652906775\n"
     ]
    }
   ],
   "source": [
    "from imblearn.ensemble import BalancedBaggingClassifier\n",
    "\n",
    "cv_res = cross_validate(BalancedBaggingClassifier(base_estimator=HistGradientBoostingClassifier(),\n",
    "                                                 n_estimators=50), \n",
    "                        data, target, cv=10, \n",
    "                        scoring=[\"accuracy\", \"balanced_accuracy\"],\n",
    "                        return_estimator=True)\n",
    "\n",
    "print(\"Mean Accuracy: \", cv_res[\"test_accuracy\"].mean())\n",
    "print(\"Mean Balanced Accuracy: \", cv_res[\"test_balanced_accuracy\"].mean())"
   ]
  }
 ],
 "metadata": {
  "kernelspec": {
   "display_name": "Python 3",
   "language": "python",
   "name": "python3"
  },
  "language_info": {
   "codemirror_mode": {
    "name": "ipython",
    "version": 3
   },
   "file_extension": ".py",
   "mimetype": "text/x-python",
   "name": "python",
   "nbconvert_exporter": "python",
   "pygments_lexer": "ipython3",
   "version": "3.9.2"
  }
 },
 "nbformat": 4,
 "nbformat_minor": 4
}
